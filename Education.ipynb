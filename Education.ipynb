{
 "cells": [
  {
   "cell_type": "markdown",
   "id": "eb23be5c-a063-4db8-8047-ddc009e1c8eb",
   "metadata": {},
   "source": [
    "# Intro\n",
    "For my dataset, I decided to look at the educational landscape within Pittsburgh neighborhoods by focusing on the percentage of K-12 students identified as “gifted.” The reason I chose this is because this metric sort of acts as a proxy for approximating potential “wealth” in terms of educational opportunities and academic resources. In this sitaution, I'd define wealth as having a high proportion of gifted students compared to total student body as it reflects an area’s emphasis on academic achievement and support for advanced learning.\n",
    "\n",
    "The dataset, obtained from the Western Pennsylvania Regional Data Center (WPRDC), contains information from the 2020-2021 school year, detailing the number of students categorized as gifted, receiving other IEP services, or not identified under either category across various neighborhoods. By analyzing these figures and visualizing the gifted percentage across neighborhoods, we can identify trends and disparities in academic enrichment opportunities within Pittsburgh."
   ]
  },
  {
   "cell_type": "code",
   "execution_count": null,
   "id": "14ca8804-15e6-4c67-bd9f-fc3a7fba3ece",
   "metadata": {},
   "outputs": [],
   "source": [
    "import pandas as pd\n",
    "import matplotlib.pyplot as plt\n",
    "\n",
    "# Load the dataset\n",
    "url = \"https://data.wprdc.org/dataset/fb72c35f-ad18-42ff-adad-2a6d0480f348/resource/62403582-e6c3-40b6-9bb6-d5d38e3f058d/download/neighborhood_iep.csv\"\n",
    "data = pd.read_csv(url)\n",
    "\n",
    "# Calculate the gifted percentage\n",
    "data['gifted_percentage'] = (data['gifted'] / data['total_enrollment_k_12']) * 100\n",
    "\n",
    "# Sort neighborhoods by gifted percentage\n",
    "data = data.sort_values(by='gifted_percentage', ascending=False)\n",
    "\n",
    "# Create the bar chart\n",
    "plt.figure(figsize=(10, 6))\n",
    "plt.barh(data['neighborhoods'], data['gifted_percentage'], color='blue')\n",
    "plt.xlabel('Gifted Percentage')\n",
    "plt.ylabel('Neighborhoods')\n",
    "plt.title('Gifted Percentage by Neighborhood')\n",
    "plt.gca().invert_yaxis()  # Invert the y-axis\n",
    "plt.tight_layout()\n",
    "\n",
    "# Show the chart\n",
    "plt.show()"
   ]
  },
  {
   "cell_type": "markdown",
   "id": "926921aa-52c0-4123-a8d6-14f3e912465b",
   "metadata": {},
   "source": [
    "# Graph"
   ]
  },
  {
   "cell_type": "code",
   "execution_count": 39,
   "id": "a08a7878-fb35-4836-8547-ffa4efdaa267",
   "metadata": {},
   "outputs": [
    {
     "name": "stdout",
     "output_type": "stream",
     "text": [
      "                                        neighborhoods  gifted_percentage\n",
      "40                                Squirrel Hill North          32.926829\n",
      "41  Squirrel Hill South, Regent Square, Swisshelm ...          32.223702\n",
      "33                                       Point Breeze          31.699346\n",
      "21                                      Highland Park          21.727749\n",
      "18                                         Greenfield          18.046709\n",
      "4                              Bloomfield, Friendship          14.776632\n",
      "34                                 Point Breeze North          14.728682\n",
      "37                                   South Side Flats          13.761468\n",
      "10                       Central, Upper Lawrenceville          13.617021\n",
      "9                                   Central Northside          13.432836\n"
     ]
    }
   ],
   "source": [
    "#print top 10 as a table:\n",
    "print(data[['neighborhoods', 'gifted_percentage']].head(10))"
   ]
  },
  {
   "cell_type": "markdown",
   "id": "91733d56-0e5a-4e55-995d-f12f509897fb",
   "metadata": {},
   "source": [
    "# Conclusion\n",
    "In conclusion, based on the graph and table, the neighborhood in Pittsburgh with the highest percentage of gifted students is Squirrel Hill South. Since I've lived in Pittsburgh my whole life, this is not surprising, as Squirrel Hill is known for being one of the more prestigious areas, with access to top-tier schools, resources, and a strong Jewish community known to priortize education. Personally, my favorite neighborhood would have to be the Hill District, as it holds a special place in my heart due to it being where I was raised. While Squirrel Hill South stands out in terms of gifted students, each neighborhood has its own unique aspects and contributes significantly to Pittsburgh’s diversity and sense of unity."
   ]
  },
  {
   "cell_type": "code",
   "execution_count": null,
   "id": "853cdc70-844a-4317-9ed9-b7d0167831bc",
   "metadata": {},
   "outputs": [],
   "source": []
  }
 ],
 "metadata": {
  "kernelspec": {
   "display_name": "Python 3 (ipykernel)",
   "language": "python",
   "name": "python3"
  },
  "language_info": {
   "codemirror_mode": {
    "name": "ipython",
    "version": 3
   },
   "file_extension": ".py",
   "mimetype": "text/x-python",
   "name": "python",
   "nbconvert_exporter": "python",
   "pygments_lexer": "ipython3",
   "version": "3.12.4"
  }
 },
 "nbformat": 4,
 "nbformat_minor": 5
}
